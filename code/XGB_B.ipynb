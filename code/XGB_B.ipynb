{
 "cells": [
  {
   "cell_type": "code",
   "execution_count": 1,
   "metadata": {
    "collapsed": true,
    "pycharm": {
     "name": "#%%\n"
    }
   },
   "outputs": [],
   "source": [
    "import numpy as np\n",
    "import pandas as pd\n",
    "import matplotlib.pyplot as plt\n",
    "# import thinkstats2\n",
    "import math\n",
    "import seaborn as sns\n",
    "from sklearn.preprocessing import KBinsDiscretizer\n",
    "from sklearn.preprocessing import StandardScaler\n",
    "from sklearn.experimental import enable_iterative_imputer\n",
    "from sklearn.impute import SimpleImputer\n",
    "from sklearn.impute import IterativeImputer\n",
    "from scipy.stats import entropy\n",
    "from scipy.stats import ks_2samp\n",
    "from sklearn import metrics\n",
    "from eda_kit import conditional_entropy,roc_auc_score,auc"
   ]
  },
  {
   "cell_type": "code",
   "execution_count": 2,
   "outputs": [],
   "source": [
    "A_train = pd.read_csv('../data/A_train.csv')\n",
    "B_train = pd.read_csv('../data/B_train.csv')\n",
    "B_test = pd.read_csv('../data/B_test.csv')"
   ],
   "metadata": {
    "collapsed": false,
    "pycharm": {
     "name": "#%%\n"
    }
   }
  },
  {
   "cell_type": "code",
   "execution_count": null,
   "outputs": [],
   "source": [
    "# 大量删除\n",
    "A_train_columns = A_train.columns\n",
    "A_null_count_less = []\n",
    "A_null_count_large = []\n",
    "\n",
    "threshold_A_train_null_columns = 0.4\n",
    "for i in A_train_columns:\n",
    "    if (A_train[i].isnull().sum()) / len(A_train[i]) <= threshold_A_train_null_columns:\n",
    "        A_null_count_less.append([i,(A_train[i].isnull().sum()) / len(A_train[i])])\n",
    "    else:\n",
    "        A_null_count_large.append([i,(A_train[i].isnull().sum()) / len(A_train[i])])\n",
    "\n",
    "# len(A_null_count_less)    335\n",
    "\n",
    "# len(A_null_count_large)   156\n",
    "\n",
    "B_train_columns = B_train.columns\n",
    "B_null_count_less = []\n",
    "B_null_count_large = []\n",
    "\n",
    "threshold_B_train_null_columns = 0.75\n",
    "for i in B_train_columns:\n",
    "    if (B_train[i].isnull().sum()) / len(B_train[i]) <= threshold_B_train_null_columns:\n",
    "        B_null_count_less.append([i,(B_train[i].isnull().sum()) / len(B_train[i])])\n",
    "    else:\n",
    "        B_null_count_large.append([i,(B_train[i].isnull().sum()) / len(B_train[i])])\n",
    "\n",
    "# len(B_null_count_less) 327\n",
    "\n",
    "# len(B_null_count_large) 164\n",
    "\n",
    "\n",
    "B_test_columns = B_test.columns\n",
    "B_test_count_less = []\n",
    "B_test_count_large = []\n",
    "\n",
    "for i in B_test_columns:\n",
    "    if (B_test[i].isnull().sum()) / len(B_test[i]) <= threshold_B_train_null_columns:\n",
    "        B_test_count_less.append([i,(B_test[i].isnull().sum()) / len(B_test[i])])\n",
    "    else:\n",
    "        B_test_count_large.append([i,(B_test[i].isnull().sum()) / len(B_test[i])])\n",
    "\n",
    "# len(B_test_count_large) 164\n",
    "\n",
    "# len(B_test_count_less) 326\n",
    "\n",
    "\n",
    "# # 提取百分比大于47的数据\n"
   ],
   "metadata": {
    "collapsed": false,
    "pycharm": {
     "name": "#%%\n"
    }
   }
  },
  {
   "cell_type": "code",
   "execution_count": 3,
   "outputs": [
    {
     "name": "stderr",
     "output_type": "stream",
     "text": [
      "/Users/wenqiang/opt/anaconda3/envs/qhzx37/lib/python3.7/site-packages/pandas/core/frame.py:3997: SettingWithCopyWarning: \n",
      "A value is trying to be set on a copy of a slice from a DataFrame\n",
      "\n",
      "See the caveats in the documentation: https://pandas.pydata.org/pandas-docs/stable/user_guide/indexing.html#returning-a-view-versus-a-copy\n",
      "  errors=errors,\n"
     ]
    }
   ],
   "source": [
    "A_feature = pd.DataFrame(B_null_count_less).values[:,0]\n",
    "B_feature = pd.DataFrame(B_null_count_less).values[:,0]\n",
    "BT_feature = pd.DataFrame(B_test_count_less).values[:,0]\n",
    "\n",
    "a_data = A_train[A_feature]\n",
    "b_data = B_train[B_feature]\n",
    "bt_data = B_train[BT_feature]\n",
    "\n",
    "a_columns = a_data.columns\n",
    "a_columns = a_columns.sort_values()\n",
    "\n",
    "b_columns = b_data.columns   ## B_train columns，多了一个flag\n",
    "b_columns = b_columns.sort_values()\n",
    "\n",
    "bt_columns = bt_data.columns   ## B_test columns\n",
    "bt_columns = bt_columns.sort_values()\n",
    "\n",
    "a_data = A_train[b_columns]\n",
    "b_data = B_train[b_columns]\n",
    "bt_data = B_test[b_columns.drop(['flag'])]\n",
    "\n",
    "fillna_b = 0\n",
    "b_data = b_data.fillna(fillna_b)\n",
    "bt_data = bt_data.fillna(fillna_b)\n",
    "\n",
    "discrete_threshold = 120\n",
    "data_tmp_all = pd.concat([a_data.sort_index(axis=1).drop(['flag','no'],axis=1),b_data.sort_index(axis=1).drop(['flag','no'],axis=1)])\n",
    "data_tmp_all = pd.concat([data_tmp_all, bt_data.sort_index(axis=1).drop(['no'],axis=1)])\n",
    "data_all_n_unique = data_tmp_all.nunique()\n",
    "discrete_columns = data_all_n_unique[data_all_n_unique<=discrete_threshold].index\n",
    "continuous_columns = data_all_n_unique[data_all_n_unique>discrete_threshold].index\n",
    "\n",
    "threshold_k_bins = 0.2\n",
    "est = KBinsDiscretizer(n_bins=20, encode='ordinal', strategy='uniform').fit(b_data[continuous_columns])\n",
    "b_data.update( pd.DataFrame(est.transform(b_data[continuous_columns]),columns=continuous_columns))\n",
    "bt_data.update( pd.DataFrame(est.transform(bt_data[continuous_columns]),columns=continuous_columns))\n",
    "\n",
    "\n",
    "target_bb = b_data['flag']\n",
    "b_data.drop('flag',axis=1,inplace=True)\n",
    "\n",
    "\n",
    "fillna_b = 0\n",
    "bb_data = b_data.fillna(fillna_b)\n",
    "bbt_data = bt_data.fillna(fillna_b)\n"
   ],
   "metadata": {
    "collapsed": false,
    "pycharm": {
     "name": "#%%\n"
    }
   }
  },
  {
   "cell_type": "code",
   "execution_count": null,
   "outputs": [],
   "source": [],
   "metadata": {
    "collapsed": false,
    "pycharm": {
     "name": "#%%\n"
    }
   }
  },
  {
   "cell_type": "code",
   "execution_count": null,
   "outputs": [],
   "source": [
    "# 分析null\n",
    "\n",
    "# fea_null = np.sum(A_train.isnull(), axis=0)\n",
    "# feb_null = np.sum(B_train.isnull(), axis=0)\n",
    "# fet_null = np.sum(B_test.isnull(), axis=0)\n",
    "#\n",
    "# # preserve less null columns\n",
    "# threshold_column_null = 0.63\n",
    "# at_target_columns = fea_null[fea_null<A_train.shape[0]*threshold_column_null].sort_values(axis=0).index\n",
    "# bt_target_columns = feb_null[feb_null<B_train.shape[0]*threshold_column_null].sort_values(axis=0).index\n",
    "# test_target_columns = fet_null[fet_null<B_test.shape[0]*threshold_column_null].sort_values(axis=0).index\n",
    "# target_columns = at_target_columns.intersection(bt_target_columns)\n",
    "#\n",
    "#\n",
    "# fillna_b = 0\n",
    "#\n",
    "# a_data = A_train[target_columns].fillna(fillna_b)\n",
    "# b_data = B_train[target_columns].fillna(fillna_b)\n",
    "# bt_data = B_test[target_columns.drop(['flag'])].fillna(fillna_b)\n",
    "#\n",
    "#\n",
    "# threshold_corr_bt = 0.83\n",
    "# corr_bt = b_data.corr()\n",
    "# #sns.heatmap(corr_bt, annot=False, cmap=plt.cm.Reds)\n",
    "# #plt.show()\n",
    "# corr_length = corr_bt.shape[0]\n",
    "# final_cols_bt = []\n",
    "# del_cols_bt =[]\n",
    "# for i in range(corr_length):\n",
    "#     if corr_bt.columns[i] not in del_cols_bt:\n",
    "#         final_cols_bt.append(corr_bt.columns[i])\n",
    "#         for j in range(i+1,corr_length):\n",
    "#             if (math.fabs(corr_bt.iloc[i,j]) > threshold_corr_bt) and (corr_bt.columns[j] not in del_cols_bt):\n",
    "#                 del_cols_bt.append(corr_bt.columns[j])\n",
    "#\n",
    "#\n",
    "# target_columns = target_columns.intersection(pd.Index(final_cols_bt))\n",
    "# b_data = b_data[target_columns]\n",
    "# bt_data = bt_data[target_columns.drop(['flag'])]"
   ],
   "metadata": {
    "collapsed": false,
    "pycharm": {
     "name": "#%%\n"
    }
   }
  },
  {
   "cell_type": "code",
   "execution_count": null,
   "outputs": [],
   "source": [
    "# target_bb = b_data['flag']\n",
    "# b_data.drop('flag',axis=1,inplace=True)\n",
    "#\n",
    "#\n",
    "# fillna_b = 0\n",
    "# bb_data = b_data.fillna(fillna_b)\n",
    "# bbt_data = bt_data.fillna(fillna_b)\n"
   ],
   "metadata": {
    "collapsed": false,
    "pycharm": {
     "name": "#%%\n"
    }
   }
  },
  {
   "cell_type": "code",
   "execution_count": 4,
   "outputs": [
    {
     "ename": "KeyboardInterrupt",
     "evalue": "",
     "output_type": "error",
     "traceback": [
      "\u001B[0;31m---------------------------------------------------------------------------\u001B[0m",
      "\u001B[0;31mKeyboardInterrupt\u001B[0m                         Traceback (most recent call last)",
      "\u001B[0;32m<ipython-input-4-a7f5a3cd3bc3>\u001B[0m in \u001B[0;36m<module>\u001B[0;34m\u001B[0m\n\u001B[1;32m     14\u001B[0m \u001B[0;31m# 训练所有数据 输出\u001B[0m\u001B[0;34m\u001B[0m\u001B[0;34m\u001B[0m\u001B[0;34m\u001B[0m\u001B[0m\n\u001B[1;32m     15\u001B[0m \u001B[0;34m\u001B[0m\u001B[0m\n\u001B[0;32m---> 16\u001B[0;31m \u001B[0mclf\u001B[0m\u001B[0;34m.\u001B[0m\u001B[0mfit\u001B[0m\u001B[0;34m(\u001B[0m\u001B[0mbb_data\u001B[0m\u001B[0;34m,\u001B[0m\u001B[0mtarget_bb\u001B[0m\u001B[0;34m)\u001B[0m\u001B[0;34m\u001B[0m\u001B[0;34m\u001B[0m\u001B[0m\n\u001B[0m\u001B[1;32m     17\u001B[0m \u001B[0mb\u001B[0m \u001B[0;34m=\u001B[0m \u001B[0mclf\u001B[0m\u001B[0;34m.\u001B[0m\u001B[0mpredict_proba\u001B[0m\u001B[0;34m(\u001B[0m\u001B[0mbbt_data\u001B[0m\u001B[0;34m)\u001B[0m\u001B[0;34m\u001B[0m\u001B[0;34m\u001B[0m\u001B[0m\n\u001B[1;32m     18\u001B[0m \u001B[0mb\u001B[0m\u001B[0;34m=\u001B[0m\u001B[0mpd\u001B[0m\u001B[0;34m.\u001B[0m\u001B[0mDataFrame\u001B[0m\u001B[0;34m(\u001B[0m\u001B[0mb\u001B[0m\u001B[0;34m)\u001B[0m\u001B[0;34m\u001B[0m\u001B[0;34m\u001B[0m\u001B[0m\n",
      "\u001B[0;32m<ipython-input-4-a7f5a3cd3bc3>\u001B[0m in \u001B[0;36m<module>\u001B[0;34m\u001B[0m\n\u001B[1;32m     14\u001B[0m \u001B[0;31m# 训练所有数据 输出\u001B[0m\u001B[0;34m\u001B[0m\u001B[0;34m\u001B[0m\u001B[0;34m\u001B[0m\u001B[0m\n\u001B[1;32m     15\u001B[0m \u001B[0;34m\u001B[0m\u001B[0m\n\u001B[0;32m---> 16\u001B[0;31m \u001B[0mclf\u001B[0m\u001B[0;34m.\u001B[0m\u001B[0mfit\u001B[0m\u001B[0;34m(\u001B[0m\u001B[0mbb_data\u001B[0m\u001B[0;34m,\u001B[0m\u001B[0mtarget_bb\u001B[0m\u001B[0;34m)\u001B[0m\u001B[0;34m\u001B[0m\u001B[0;34m\u001B[0m\u001B[0m\n\u001B[0m\u001B[1;32m     17\u001B[0m \u001B[0mb\u001B[0m \u001B[0;34m=\u001B[0m \u001B[0mclf\u001B[0m\u001B[0;34m.\u001B[0m\u001B[0mpredict_proba\u001B[0m\u001B[0;34m(\u001B[0m\u001B[0mbbt_data\u001B[0m\u001B[0;34m)\u001B[0m\u001B[0;34m\u001B[0m\u001B[0;34m\u001B[0m\u001B[0m\n\u001B[1;32m     18\u001B[0m \u001B[0mb\u001B[0m\u001B[0;34m=\u001B[0m\u001B[0mpd\u001B[0m\u001B[0;34m.\u001B[0m\u001B[0mDataFrame\u001B[0m\u001B[0;34m(\u001B[0m\u001B[0mb\u001B[0m\u001B[0;34m)\u001B[0m\u001B[0;34m\u001B[0m\u001B[0;34m\u001B[0m\u001B[0m\n",
      "\u001B[0;32m_pydevd_bundle/pydevd_cython_darwin_37_64.pyx\u001B[0m in \u001B[0;36m_pydevd_bundle.pydevd_cython_darwin_37_64.SafeCallWrapper.__call__\u001B[0;34m()\u001B[0m\n",
      "\u001B[0;32m_pydevd_bundle/pydevd_cython_darwin_37_64.pyx\u001B[0m in \u001B[0;36m_pydevd_bundle.pydevd_cython_darwin_37_64.PyDBFrame.trace_dispatch\u001B[0;34m()\u001B[0m\n",
      "\u001B[0;32m_pydevd_bundle/pydevd_cython_darwin_37_64.pyx\u001B[0m in \u001B[0;36m_pydevd_bundle.pydevd_cython_darwin_37_64.PyDBFrame.trace_dispatch\u001B[0;34m()\u001B[0m\n",
      "\u001B[0;32m_pydevd_bundle/pydevd_cython_darwin_37_64.pyx\u001B[0m in \u001B[0;36m_pydevd_bundle.pydevd_cython_darwin_37_64.PyDBFrame.trace_dispatch\u001B[0;34m()\u001B[0m\n",
      "\u001B[0;32m/Applications/PyCharm.app/Contents/plugins/python/helpers-pro/jupyter_debug/pydev_jupyter_plugin.py\u001B[0m in \u001B[0;36mstop\u001B[0;34m(plugin, pydb, frame, event, args, stop_info, arg, step_cmd)\u001B[0m\n\u001B[1;32m    163\u001B[0m         \u001B[0mframe\u001B[0m \u001B[0;34m=\u001B[0m \u001B[0msuspend_jupyter\u001B[0m\u001B[0;34m(\u001B[0m\u001B[0mmain_debugger\u001B[0m\u001B[0;34m,\u001B[0m \u001B[0mthread\u001B[0m\u001B[0;34m,\u001B[0m \u001B[0mframe\u001B[0m\u001B[0;34m,\u001B[0m \u001B[0mstep_cmd\u001B[0m\u001B[0;34m)\u001B[0m\u001B[0;34m\u001B[0m\u001B[0;34m\u001B[0m\u001B[0m\n\u001B[1;32m    164\u001B[0m         \u001B[0;32mif\u001B[0m \u001B[0mframe\u001B[0m\u001B[0;34m:\u001B[0m\u001B[0;34m\u001B[0m\u001B[0;34m\u001B[0m\u001B[0m\n\u001B[0;32m--> 165\u001B[0;31m             \u001B[0mmain_debugger\u001B[0m\u001B[0;34m.\u001B[0m\u001B[0mdo_wait_suspend\u001B[0m\u001B[0;34m(\u001B[0m\u001B[0mthread\u001B[0m\u001B[0;34m,\u001B[0m \u001B[0mframe\u001B[0m\u001B[0;34m,\u001B[0m \u001B[0mevent\u001B[0m\u001B[0;34m,\u001B[0m \u001B[0marg\u001B[0m\u001B[0;34m)\u001B[0m\u001B[0;34m\u001B[0m\u001B[0;34m\u001B[0m\u001B[0m\n\u001B[0m\u001B[1;32m    166\u001B[0m             \u001B[0;32mreturn\u001B[0m \u001B[0;32mTrue\u001B[0m\u001B[0;34m\u001B[0m\u001B[0;34m\u001B[0m\u001B[0m\n\u001B[1;32m    167\u001B[0m     \u001B[0;32mreturn\u001B[0m \u001B[0;32mFalse\u001B[0m\u001B[0;34m\u001B[0m\u001B[0;34m\u001B[0m\u001B[0m\n",
      "\u001B[0;32m/Applications/PyCharm.app/Contents/plugins/python/helpers/pydev/pydevd.py\u001B[0m in \u001B[0;36mdo_wait_suspend\u001B[0;34m(self, thread, frame, event, arg, send_suspend_message, is_unhandled_exception)\u001B[0m\n\u001B[1;32m   1110\u001B[0m \u001B[0;34m\u001B[0m\u001B[0m\n\u001B[1;32m   1111\u001B[0m         \u001B[0;32mwith\u001B[0m \u001B[0mself\u001B[0m\u001B[0;34m.\u001B[0m\u001B[0m_threads_suspended_single_notification\u001B[0m\u001B[0;34m.\u001B[0m\u001B[0mnotify_thread_suspended\u001B[0m\u001B[0;34m(\u001B[0m\u001B[0mthread_id\u001B[0m\u001B[0;34m,\u001B[0m \u001B[0mstop_reason\u001B[0m\u001B[0;34m)\u001B[0m\u001B[0;34m:\u001B[0m\u001B[0;34m\u001B[0m\u001B[0;34m\u001B[0m\u001B[0m\n\u001B[0;32m-> 1112\u001B[0;31m             \u001B[0mself\u001B[0m\u001B[0;34m.\u001B[0m\u001B[0m_do_wait_suspend\u001B[0m\u001B[0;34m(\u001B[0m\u001B[0mthread\u001B[0m\u001B[0;34m,\u001B[0m \u001B[0mframe\u001B[0m\u001B[0;34m,\u001B[0m \u001B[0mevent\u001B[0m\u001B[0;34m,\u001B[0m \u001B[0marg\u001B[0m\u001B[0;34m,\u001B[0m \u001B[0msuspend_type\u001B[0m\u001B[0;34m,\u001B[0m \u001B[0mfrom_this_thread\u001B[0m\u001B[0;34m)\u001B[0m\u001B[0;34m\u001B[0m\u001B[0;34m\u001B[0m\u001B[0m\n\u001B[0m\u001B[1;32m   1113\u001B[0m \u001B[0;34m\u001B[0m\u001B[0m\n\u001B[1;32m   1114\u001B[0m     \u001B[0;32mdef\u001B[0m \u001B[0m_do_wait_suspend\u001B[0m\u001B[0;34m(\u001B[0m\u001B[0mself\u001B[0m\u001B[0;34m,\u001B[0m \u001B[0mthread\u001B[0m\u001B[0;34m,\u001B[0m \u001B[0mframe\u001B[0m\u001B[0;34m,\u001B[0m \u001B[0mevent\u001B[0m\u001B[0;34m,\u001B[0m \u001B[0marg\u001B[0m\u001B[0;34m,\u001B[0m \u001B[0msuspend_type\u001B[0m\u001B[0;34m,\u001B[0m \u001B[0mfrom_this_thread\u001B[0m\u001B[0;34m)\u001B[0m\u001B[0;34m:\u001B[0m\u001B[0;34m\u001B[0m\u001B[0;34m\u001B[0m\u001B[0m\n",
      "\u001B[0;32m/Applications/PyCharm.app/Contents/plugins/python/helpers/pydev/pydevd.py\u001B[0m in \u001B[0;36m_do_wait_suspend\u001B[0;34m(self, thread, frame, event, arg, suspend_type, from_this_thread)\u001B[0m\n\u001B[1;32m   1125\u001B[0m \u001B[0;34m\u001B[0m\u001B[0m\n\u001B[1;32m   1126\u001B[0m                 \u001B[0mself\u001B[0m\u001B[0;34m.\u001B[0m\u001B[0mprocess_internal_commands\u001B[0m\u001B[0;34m(\u001B[0m\u001B[0;34m)\u001B[0m\u001B[0;34m\u001B[0m\u001B[0;34m\u001B[0m\u001B[0m\n\u001B[0;32m-> 1127\u001B[0;31m                 \u001B[0mtime\u001B[0m\u001B[0;34m.\u001B[0m\u001B[0msleep\u001B[0m\u001B[0;34m(\u001B[0m\u001B[0;36m0.01\u001B[0m\u001B[0;34m)\u001B[0m\u001B[0;34m\u001B[0m\u001B[0;34m\u001B[0m\u001B[0m\n\u001B[0m\u001B[1;32m   1128\u001B[0m \u001B[0;34m\u001B[0m\u001B[0m\n\u001B[1;32m   1129\u001B[0m         \u001B[0mself\u001B[0m\u001B[0;34m.\u001B[0m\u001B[0mcancel_async_evaluation\u001B[0m\u001B[0;34m(\u001B[0m\u001B[0mget_current_thread_id\u001B[0m\u001B[0;34m(\u001B[0m\u001B[0mthread\u001B[0m\u001B[0;34m)\u001B[0m\u001B[0;34m,\u001B[0m \u001B[0mstr\u001B[0m\u001B[0;34m(\u001B[0m\u001B[0mid\u001B[0m\u001B[0;34m(\u001B[0m\u001B[0mframe\u001B[0m\u001B[0;34m)\u001B[0m\u001B[0;34m)\u001B[0m\u001B[0;34m)\u001B[0m\u001B[0;34m\u001B[0m\u001B[0;34m\u001B[0m\u001B[0m\n",
      "\u001B[0;31mKeyboardInterrupt\u001B[0m: "
     ]
    }
   ],
   "source": [
    "#   GBDT训练 输出（47%以上的特征）   ，训练集划分交叉验证\n",
    "\n",
    "from sklearn.ensemble import GradientBoostingClassifier\n",
    "from sklearn.model_selection import train_test_split\n",
    "X_train, X_test, y_train, y_test = train_test_split(bb_data, target_bb, test_size=0.3, random_state=0)\n",
    "clf = GradientBoostingClassifier(n_estimators=100, learning_rate=1,  max_depth=1, random_state=0)\n",
    "clf.fit(X_train, y_train)\n",
    "clf.score(X_test, y_test)\n",
    "y_pred = clf.predict(X_test)\n",
    "y_pro = clf.predict_proba(X_test)\n",
    "y_prd = pd.DataFrame(y_pro).iloc[:,1]\n",
    "roc_auc_score(y_test,y_prd)\n",
    "\n",
    "# 训练所有数据 输出\n",
    "\n",
    "clf.fit(bb_data,target_bb)\n",
    "b = clf.predict_proba(bbt_data)\n",
    "b=pd.DataFrame(b)\n",
    "pro_b = b.iloc[:,1]\n",
    "no = B_test.iloc[:,0]\n",
    "pro = pd.DataFrame(pro_b)\n",
    "no = pd.DataFrame(no)\n",
    "\n",
    "\n",
    "# GBDT 重要特征\n",
    "\n",
    "clf.fit(bb_data,target_bb)\n",
    "clf_importance = clf.feature_importances_\n",
    "clf_importance_ = pd.DataFrame(clf_importance)\n",
    "clf_importance_.columns = {'importance'}\n",
    "bb_columns = pd.DataFrame(bb_data.columns)\n",
    "bb_columns.columns={'feature'}\n",
    "\n",
    "#影响度排序\n",
    "clf_feature_values = pd.concat([bb_columns,clf_importance_],axis=1)\n",
    "clf_feature_values = clf_feature_values.sort_values(by='importance')\n",
    "\n",
    "\n",
    "#影响度非0的特征\n",
    "clf_feature_well = clf_feature_values[clf_feature_values['importance']!=0]\n",
    "clf_feature_well_columns = clf_feature_well['feature'].values\n",
    "clf_feature_well.index = clf_feature_well_columns\n",
    "columns_GBDT = clf_feature_well.index\n",
    "\n",
    "# 测试集提取这些特征，形成新的测试集\n",
    "\n",
    "gbdt_b_data = B_train[columns_GBDT]\n",
    "gbdt_bt_data = B_test[columns_GBDT]\n",
    "gbdt_b_flag = pd.DataFrame(B_train['flag'])\n",
    "gbdt_b_train = pd.concat([gbdt_b_data,gbdt_b_flag],axis=1)\n",
    "\n",
    "gbdt_fillna_b_data = gbdt_b_data.fillna(0)\n",
    "new_test_  = gbdt_bt_data.fillna(0)"
   ],
   "metadata": {
    "collapsed": false,
    "pycharm": {
     "name": "#%%\n"
    }
   }
  },
  {
   "cell_type": "code",
   "execution_count": null,
   "outputs": [],
   "source": [
    "#   重要特征训练，训练集交叉验证\n",
    "\n",
    "from sklearn.ensemble import GradientBoostingClassifier\n",
    "from sklearn.model_selection import train_test_split\n",
    "\n",
    "X_train, X_test, y_train, y_test = train_test_split(gbdt_fillna_b_data, gbdt_b_flag, test_size=0.3, random_state=0)\n",
    "clf = GradientBoostingClassifier(n_estimators=110, learning_rate=1,  max_depth=1, random_state=0)#loss='exponential' mse\n",
    "clf.fit(X_train, y_train)\n",
    "clf.score(X_test, y_test)\n",
    "y_pred = clf.predict(X_test)\n",
    "y_pro = clf.predict_proba(X_test)\n",
    "y_prd = pd.DataFrame(y_pro).iloc[:,1]\n",
    "roc_auc_score(y_test,y_prd)\n",
    "clf.fit(gbdt_fillna_b_data,gbdt_b_flag)\n",
    "b = clf.predict_proba(new_test_)\n",
    "b=pd.DataFrame(b)\n",
    "pro_b = b.iloc[:,1]\n",
    "no = B_test.iloc[:,0]\n",
    "pro = pd.DataFrame(pro_b)\n",
    "no = pd.DataFrame(no)"
   ],
   "metadata": {
    "collapsed": false,
    "pycharm": {
     "name": "#%%\n"
    }
   }
  },
  {
   "cell_type": "code",
   "execution_count": null,
   "outputs": [],
   "source": [
    "import xgboost as xgb\n",
    "\n",
    "xg_train = xgb.DMatrix(X_train,label=y_train)\n",
    "xg_test = xgb.DMatrix(X_test,label=y_test)\n",
    "\n",
    "\n",
    "param = {'booster':'gbtree',\n",
    "         'max_depth':10,\n",
    "         'eta':0.1,\n",
    "         'silent':1,\n",
    "         'objective':'binary:logistic',\n",
    "         'eval_metric':'auc',\n",
    "         'subsample': 1,\n",
    "         \"colsample_bytree\": 0.7,\n",
    "         \"min_child_weight\":2,\n",
    "              'gamma':3.1,\n",
    "              'lambda':1,\n",
    "        \"thread\":-1,}\n",
    "num_boost_round = 1500\n",
    "watchlist = [(xg_train, 'train'), (xg_test, 'eval')]\n",
    "num_round=15\n",
    "bst = xgb.train(param, xg_train, num_round)\n",
    "preds = bst.predict(xg_test)\n",
    "roc_auc_score(y_test,preds)\n",
    "\n",
    "xg_train = xgb.DMatrix(gbdt_fillna_b_data,label=gbdt_b_flag)\n",
    "xg_test = xgb.DMatrix(new_test_)\n",
    "bst = xgb.train(param, xg_train, num_round)\n",
    "pro = bst.predict(xg_test)\n",
    "\n",
    "xgb_model =xgb.cv(param,xg_train,num_boost_round,nfold=5, early_stopping_rounds=300)#, verbose_eval=True\n",
    "\n",
    "pd.DataFrame(xgb_model)\n",
    "# 0.5829\n",
    "pd.DataFrame(xgb_model)['test-auc-mean'].mean()\n",
    "\n",
    "\n",
    "\n",
    "b=pd.DataFrame(b)\n",
    "\n",
    "XGB_B=[]\n",
    "XGB_B=pd.DataFrame(XGB_B)\n",
    "XGB_B['no'] = no\n",
    "XGB_B['pred'] = pro"
   ],
   "metadata": {
    "collapsed": false,
    "pycharm": {
     "name": "#%%\n"
    }
   }
  }
 ],
 "metadata": {
  "kernelspec": {
   "display_name": "Python 3",
   "language": "python",
   "name": "python3"
  },
  "language_info": {
   "codemirror_mode": {
    "name": "ipython",
    "version": 2
   },
   "file_extension": ".py",
   "mimetype": "text/x-python",
   "name": "python",
   "nbconvert_exporter": "python",
   "pygments_lexer": "ipython2",
   "version": "2.7.6"
  }
 },
 "nbformat": 4,
 "nbformat_minor": 0
}