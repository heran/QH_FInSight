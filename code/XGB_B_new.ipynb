{
 "cells": [
  {
   "cell_type": "code",
   "execution_count": 7,
   "metadata": {
    "collapsed": true,
    "pycharm": {
     "name": "#%%\n"
    }
   },
   "outputs": [],
   "source": [
    "import numpy as np\n",
    "import pandas as pd\n",
    "import matplotlib.pyplot as plt\n",
    "# import thinkstats2\n",
    "import math\n",
    "import seaborn as sns\n",
    "from sklearn.preprocessing import KBinsDiscretizer\n",
    "from sklearn.preprocessing import StandardScaler\n",
    "from sklearn.experimental import enable_iterative_imputer\n",
    "from sklearn.impute import SimpleImputer\n",
    "from sklearn.impute import IterativeImputer\n",
    "from scipy.stats import entropy\n",
    "from scipy.stats import ks_2samp\n",
    "from sklearn import metrics\n",
    "from eda_kit import conditional_entropy,roc_auc_score,auc"
   ]
  },
  {
   "cell_type": "code",
   "execution_count": 8,
   "outputs": [],
   "source": [
    "A_train = pd.read_csv('../data/A_train.csv')\n",
    "B_train = pd.read_csv('../data/B_train_discrete.csv')\n",
    "B_test = pd.read_csv('../data/B_test_discrete.csv')"
   ],
   "metadata": {
    "collapsed": false,
    "pycharm": {
     "name": "#%%\n"
    }
   }
  },
  {
   "cell_type": "code",
   "execution_count": 9,
   "outputs": [],
   "source": [
    "target_bb = B_train['flag']\n",
    "bb_data = B_train.drop('flag',axis=1)\n",
    "bbt_data = B_test\n"
   ],
   "metadata": {
    "collapsed": false,
    "pycharm": {
     "name": "#%%\n"
    }
   }
  },
  {
   "cell_type": "code",
   "execution_count": 10,
   "outputs": [],
   "source": [
    "#   GBDT训练 输出（47%以上的特征）   ，训练集划分交叉验证\n",
    "\n",
    "from sklearn.ensemble import GradientBoostingClassifier\n",
    "from sklearn.model_selection import train_test_split\n",
    "X_train, X_test, y_train, y_test = train_test_split(bb_data, target_bb, test_size=0.3, random_state=0)\n",
    "clf = GradientBoostingClassifier(n_estimators=100, learning_rate=1,  max_depth=1, random_state=0)\n",
    "clf.fit(X_train, y_train)\n",
    "clf.score(X_test, y_test)\n",
    "y_pred = clf.predict(X_test)\n",
    "y_pro = clf.predict_proba(X_test)\n",
    "y_prd = pd.DataFrame(y_pro).iloc[:,1]\n",
    "roc_auc_score(y_test,y_prd)\n",
    "\n",
    "# 训练所有数据 输出\n",
    "\n",
    "clf.fit(bb_data,target_bb)\n",
    "b = clf.predict_proba(bbt_data)\n",
    "b=pd.DataFrame(b)\n",
    "pro_b = b.iloc[:,1]\n",
    "no = B_test.iloc[:,0]\n",
    "pro = pd.DataFrame(pro_b)\n",
    "no = pd.DataFrame(no)\n",
    "\n",
    "\n",
    "# GBDT 重要特征\n",
    "\n",
    "clf.fit(bb_data,target_bb)\n",
    "clf_importance = clf.feature_importances_\n",
    "clf_importance_ = pd.DataFrame(clf_importance)\n",
    "clf_importance_.columns = {'importance'}\n",
    "bb_columns = pd.DataFrame(bb_data.columns)\n",
    "bb_columns.columns={'feature'}\n",
    "\n",
    "#影响度排序\n",
    "clf_feature_values = pd.concat([bb_columns,clf_importance_],axis=1)\n",
    "clf_feature_values = clf_feature_values.sort_values(by='importance')\n",
    "\n",
    "\n",
    "#影响度非0的特征\n",
    "clf_feature_well = clf_feature_values[clf_feature_values['importance']!=0]\n",
    "clf_feature_well_columns = clf_feature_well['feature'].values\n",
    "clf_feature_well.index = clf_feature_well_columns\n",
    "columns_GBDT = clf_feature_well.index\n",
    "\n",
    "# 测试集提取这些特征，形成新的测试集\n",
    "\n",
    "gbdt_b_data = B_train[columns_GBDT]\n",
    "gbdt_bt_data = B_test[columns_GBDT]\n",
    "gbdt_b_flag = pd.DataFrame(B_train['flag'])\n",
    "gbdt_b_train = pd.concat([gbdt_b_data,gbdt_b_flag],axis=1)\n",
    "\n",
    "gbdt_fillna_b_data = gbdt_b_data.fillna(0)\n",
    "new_test_  = gbdt_bt_data.fillna(0)"
   ],
   "metadata": {
    "collapsed": false,
    "pycharm": {
     "name": "#%%\n"
    }
   }
  },
  {
   "cell_type": "code",
   "execution_count": 11,
   "outputs": [
    {
     "name": "stderr",
     "output_type": "stream",
     "text": [
      "/Users/wenqiang/opt/anaconda3/envs/qhzx37/lib/python3.7/site-packages/sklearn/utils/validation.py:73: DataConversionWarning: A column-vector y was passed when a 1d array was expected. Please change the shape of y to (n_samples, ), for example using ravel().\n",
      "  return f(**kwargs)\n",
      "/Users/wenqiang/opt/anaconda3/envs/qhzx37/lib/python3.7/site-packages/sklearn/utils/validation.py:73: DataConversionWarning: A column-vector y was passed when a 1d array was expected. Please change the shape of y to (n_samples, ), for example using ravel().\n",
      "  return f(**kwargs)\n"
     ]
    }
   ],
   "source": [
    "#   重要特征训练，训练集交叉验证\n",
    "\n",
    "from sklearn.ensemble import GradientBoostingClassifier\n",
    "from sklearn.model_selection import train_test_split\n",
    "\n",
    "X_train, X_test, y_train, y_test = train_test_split(gbdt_fillna_b_data, gbdt_b_flag, test_size=0.3, random_state=0)\n",
    "clf = GradientBoostingClassifier(n_estimators=110, learning_rate=1,  max_depth=1, random_state=0)#loss='exponential' mse\n",
    "clf.fit(X_train, y_train)\n",
    "clf.score(X_test, y_test)\n",
    "y_pred = clf.predict(X_test)\n",
    "y_pro = clf.predict_proba(X_test)\n",
    "y_prd = pd.DataFrame(y_pro).iloc[:,1]\n",
    "roc_auc_score(y_test,y_prd)\n",
    "clf.fit(gbdt_fillna_b_data,gbdt_b_flag)\n",
    "b = clf.predict_proba(new_test_)\n",
    "b=pd.DataFrame(b)\n",
    "pro_b = b.iloc[:,1]\n",
    "no = B_test.iloc[:,0]\n",
    "pro = pd.DataFrame(pro_b)\n",
    "no = pd.DataFrame(no)"
   ],
   "metadata": {
    "collapsed": false,
    "pycharm": {
     "name": "#%%\n"
    }
   }
  },
  {
   "cell_type": "code",
   "execution_count": 12,
   "outputs": [
    {
     "data": {
      "text/plain": "0.5516511538461539"
     },
     "execution_count": 12,
     "metadata": {},
     "output_type": "execute_result"
    }
   ],
   "source": [
    "import xgboost as xgb\n",
    "\n",
    "xg_train = xgb.DMatrix(X_train,label=y_train)\n",
    "xg_test = xgb.DMatrix(X_test,label=y_test)\n",
    "\n",
    "\n",
    "param = {'booster':'gbtree',\n",
    "         'max_depth':10,\n",
    "         'eta':0.1,\n",
    "         'silent':1,\n",
    "         'objective':'binary:logistic',\n",
    "         'eval_metric':'auc',\n",
    "         'subsample': 1,\n",
    "         \"colsample_bytree\": 0.7,\n",
    "         \"min_child_weight\":2,\n",
    "              'gamma':3.1,\n",
    "              'lambda':1,\n",
    "        \"thread\":-1,}\n",
    "num_boost_round = 1500\n",
    "watchlist = [(xg_train, 'train'), (xg_test, 'eval')]\n",
    "num_round=15\n",
    "bst = xgb.train(param, xg_train, num_round)\n",
    "preds = bst.predict(xg_test)\n",
    "roc_auc_score(y_test,preds)\n",
    "\n",
    "xg_train = xgb.DMatrix(gbdt_fillna_b_data,label=gbdt_b_flag)\n",
    "xg_test = xgb.DMatrix(new_test_)\n",
    "bst = xgb.train(param, xg_train, num_round)\n",
    "pro = bst.predict(xg_test)\n",
    "\n",
    "xgb_model =xgb.cv(param,xg_train,num_boost_round,nfold=5, early_stopping_rounds=300)#, verbose_eval=True\n",
    "\n",
    "pd.DataFrame(xgb_model)\n",
    "# 0.5829\n",
    "pd.DataFrame(xgb_model)['test-auc-mean'].mean()\n",
    "\n",
    "\n",
    "\n",
    "# b=pd.DataFrame(b)\n",
    "#\n",
    "# XGB_B=pd.DataFrame([])\n",
    "# XGB_B['no'] = no['no']\n",
    "# XGB_B['pred'] = pro"
   ],
   "metadata": {
    "collapsed": false,
    "pycharm": {
     "name": "#%%\n"
    }
   }
  }
 ],
 "metadata": {
  "kernelspec": {
   "display_name": "Python 3",
   "language": "python",
   "name": "python3"
  },
  "language_info": {
   "codemirror_mode": {
    "name": "ipython",
    "version": 2
   },
   "file_extension": ".py",
   "mimetype": "text/x-python",
   "name": "python",
   "nbconvert_exporter": "python",
   "pygments_lexer": "ipython2",
   "version": "2.7.6"
  }
 },
 "nbformat": 4,
 "nbformat_minor": 0
}